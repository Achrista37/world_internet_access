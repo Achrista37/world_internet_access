{
 "cells": [
  {
   "cell_type": "code",
   "execution_count": 24,
   "id": "cf9ece22",
   "metadata": {},
   "outputs": [],
   "source": [
    "# Dependencies and Setup\n",
    "import matplotlib.pyplot as plt\n",
    "import pandas as pd\n",
    "import scipy.stats as st\n",
    "import numpy as np\n",
    "import random\n",
    "from scipy.stats import linregress\n",
    "import sqlalchemy\n",
    "from sqlalchemy.ext.automap import automap_base\n",
    "from sqlalchemy.orm import Session\n",
    "from sqlalchemy import create_engine"
   ]
  },
  {
   "cell_type": "code",
   "execution_count": 25,
   "id": "a9bc93ab",
   "metadata": {},
   "outputs": [],
   "source": [
    "#set all columns to be displayed\n",
    "pd.set_option('display.max_columns', None)"
   ]
  },
  {
   "cell_type": "code",
   "execution_count": 26,
   "id": "24557840",
   "metadata": {},
   "outputs": [],
   "source": [
    "# Study data file 1\n",
    "worldinternet_path = \"data.csv\"\n",
    "\n"
   ]
  },
  {
   "cell_type": "code",
   "execution_count": 27,
   "id": "c8a95ab6",
   "metadata": {},
   "outputs": [],
   "source": [
    "worldinternet_results = pd.read_csv(worldinternet_path)"
   ]
  },
  {
   "cell_type": "code",
   "execution_count": 28,
   "id": "b6585e1b",
   "metadata": {},
   "outputs": [
    {
     "data": {
      "text/html": [
       "<div>\n",
       "<style scoped>\n",
       "    .dataframe tbody tr th:only-of-type {\n",
       "        vertical-align: middle;\n",
       "    }\n",
       "\n",
       "    .dataframe tbody tr th {\n",
       "        vertical-align: top;\n",
       "    }\n",
       "\n",
       "    .dataframe thead th {\n",
       "        text-align: right;\n",
       "    }\n",
       "</style>\n",
       "<table border=\"1\" class=\"dataframe\">\n",
       "  <thead>\n",
       "    <tr style=\"text-align: right;\">\n",
       "      <th></th>\n",
       "      <th>Series Name</th>\n",
       "      <th>Series Code</th>\n",
       "      <th>Country Name</th>\n",
       "      <th>Country Code</th>\n",
       "      <th>1990 [YR1990]</th>\n",
       "      <th>2000 [YR2000]</th>\n",
       "      <th>2011 [YR2011]</th>\n",
       "      <th>2012 [YR2012]</th>\n",
       "      <th>2013 [YR2013]</th>\n",
       "      <th>2014 [YR2014]</th>\n",
       "      <th>2015 [YR2015]</th>\n",
       "      <th>2016 [YR2016]</th>\n",
       "      <th>2017 [YR2017]</th>\n",
       "      <th>2018 [YR2018]</th>\n",
       "      <th>2019 [YR2019]</th>\n",
       "      <th>2020 [YR2020]</th>\n",
       "    </tr>\n",
       "  </thead>\n",
       "  <tbody>\n",
       "    <tr>\n",
       "      <th>0</th>\n",
       "      <td>Individuals using the Internet (% of population)</td>\n",
       "      <td>IT.NET.USER.ZS</td>\n",
       "      <td>Afghanistan</td>\n",
       "      <td>AFG</td>\n",
       "      <td>0</td>\n",
       "      <td>..</td>\n",
       "      <td>5</td>\n",
       "      <td>5.454545455</td>\n",
       "      <td>5.9</td>\n",
       "      <td>7</td>\n",
       "      <td>8.26</td>\n",
       "      <td>..</td>\n",
       "      <td>..</td>\n",
       "      <td>..</td>\n",
       "      <td>..</td>\n",
       "      <td>..</td>\n",
       "    </tr>\n",
       "    <tr>\n",
       "      <th>1</th>\n",
       "      <td>Individuals using the Internet (% of population)</td>\n",
       "      <td>IT.NET.USER.ZS</td>\n",
       "      <td>Albania</td>\n",
       "      <td>ALB</td>\n",
       "      <td>0</td>\n",
       "      <td>0.114097347</td>\n",
       "      <td>47</td>\n",
       "      <td>49.4</td>\n",
       "      <td>51.8</td>\n",
       "      <td>54.3</td>\n",
       "      <td>56.9</td>\n",
       "      <td>59.6</td>\n",
       "      <td>62.4</td>\n",
       "      <td>65.4</td>\n",
       "      <td>68.55039112</td>\n",
       "      <td>72.23767711</td>\n",
       "    </tr>\n",
       "    <tr>\n",
       "      <th>2</th>\n",
       "      <td>Individuals using the Internet (% of population)</td>\n",
       "      <td>IT.NET.USER.ZS</td>\n",
       "      <td>Algeria</td>\n",
       "      <td>DZA</td>\n",
       "      <td>0</td>\n",
       "      <td>0.491705679</td>\n",
       "      <td>14.9</td>\n",
       "      <td>18.2</td>\n",
       "      <td>22.5</td>\n",
       "      <td>29.5</td>\n",
       "      <td>38.2</td>\n",
       "      <td>42.94552688</td>\n",
       "      <td>47.69105515</td>\n",
       "      <td>49.03846808</td>\n",
       "      <td>57.5</td>\n",
       "      <td>..</td>\n",
       "    </tr>\n",
       "    <tr>\n",
       "      <th>3</th>\n",
       "      <td>Individuals using the Internet (% of population)</td>\n",
       "      <td>IT.NET.USER.ZS</td>\n",
       "      <td>American Samoa</td>\n",
       "      <td>ASM</td>\n",
       "      <td>0</td>\n",
       "      <td>..</td>\n",
       "      <td>..</td>\n",
       "      <td>..</td>\n",
       "      <td>..</td>\n",
       "      <td>..</td>\n",
       "      <td>..</td>\n",
       "      <td>..</td>\n",
       "      <td>..</td>\n",
       "      <td>..</td>\n",
       "      <td>..</td>\n",
       "      <td>..</td>\n",
       "    </tr>\n",
       "    <tr>\n",
       "      <th>4</th>\n",
       "      <td>Individuals using the Internet (% of population)</td>\n",
       "      <td>IT.NET.USER.ZS</td>\n",
       "      <td>Andorra</td>\n",
       "      <td>AND</td>\n",
       "      <td>0</td>\n",
       "      <td>10.53883561</td>\n",
       "      <td>81</td>\n",
       "      <td>..</td>\n",
       "      <td>..</td>\n",
       "      <td>..</td>\n",
       "      <td>..</td>\n",
       "      <td>..</td>\n",
       "      <td>91.56746703</td>\n",
       "      <td>..</td>\n",
       "      <td>..</td>\n",
       "      <td>..</td>\n",
       "    </tr>\n",
       "  </tbody>\n",
       "</table>\n",
       "</div>"
      ],
      "text/plain": [
       "                                        Series Name     Series Code  \\\n",
       "0  Individuals using the Internet (% of population)  IT.NET.USER.ZS   \n",
       "1  Individuals using the Internet (% of population)  IT.NET.USER.ZS   \n",
       "2  Individuals using the Internet (% of population)  IT.NET.USER.ZS   \n",
       "3  Individuals using the Internet (% of population)  IT.NET.USER.ZS   \n",
       "4  Individuals using the Internet (% of population)  IT.NET.USER.ZS   \n",
       "\n",
       "     Country Name Country Code 1990 [YR1990] 2000 [YR2000] 2011 [YR2011]  \\\n",
       "0     Afghanistan          AFG             0            ..             5   \n",
       "1         Albania          ALB             0   0.114097347            47   \n",
       "2         Algeria          DZA             0   0.491705679          14.9   \n",
       "3  American Samoa          ASM             0            ..            ..   \n",
       "4         Andorra          AND             0   10.53883561            81   \n",
       "\n",
       "  2012 [YR2012] 2013 [YR2013] 2014 [YR2014] 2015 [YR2015] 2016 [YR2016]  \\\n",
       "0   5.454545455           5.9             7          8.26            ..   \n",
       "1          49.4          51.8          54.3          56.9          59.6   \n",
       "2          18.2          22.5          29.5          38.2   42.94552688   \n",
       "3            ..            ..            ..            ..            ..   \n",
       "4            ..            ..            ..            ..            ..   \n",
       "\n",
       "  2017 [YR2017] 2018 [YR2018] 2019 [YR2019] 2020 [YR2020]  \n",
       "0            ..            ..            ..            ..  \n",
       "1          62.4          65.4   68.55039112   72.23767711  \n",
       "2   47.69105515   49.03846808          57.5            ..  \n",
       "3            ..            ..            ..            ..  \n",
       "4   91.56746703            ..            ..            ..  "
      ]
     },
     "execution_count": 28,
     "metadata": {},
     "output_type": "execute_result"
    }
   ],
   "source": [
    "worldinternet_results.head()"
   ]
  },
  {
   "cell_type": "code",
   "execution_count": 29,
   "id": "62d31b92",
   "metadata": {},
   "outputs": [
    {
     "data": {
      "text/plain": [
       "(271, 16)"
      ]
     },
     "execution_count": 29,
     "metadata": {},
     "output_type": "execute_result"
    }
   ],
   "source": [
    "worldinternet_results.shape"
   ]
  },
  {
   "cell_type": "code",
   "execution_count": 30,
   "id": "c8f5b8b2",
   "metadata": {},
   "outputs": [],
   "source": [
    "# Study data file 2\n",
    "worldincome_path = \"countries.csv\""
   ]
  },
  {
   "cell_type": "code",
   "execution_count": 31,
   "id": "b4f78d21",
   "metadata": {},
   "outputs": [
    {
     "ename": "NameError",
     "evalue": "name 'worldbank_path' is not defined",
     "output_type": "error",
     "traceback": [
      "\u001b[0;31m---------------------------------------------------------------------------\u001b[0m",
      "\u001b[0;31mNameError\u001b[0m                                 Traceback (most recent call last)",
      "\u001b[0;32m/var/folders/h4/v2g57xvj6mz75vxd96qdxsqw0000gn/T/ipykernel_2616/671377150.py\u001b[0m in \u001b[0;36m<module>\u001b[0;34m\u001b[0m\n\u001b[0;32m----> 1\u001b[0;31m \u001b[0mworldincome_results\u001b[0m \u001b[0;34m=\u001b[0m \u001b[0mpd\u001b[0m\u001b[0;34m.\u001b[0m\u001b[0mread_csv\u001b[0m\u001b[0;34m(\u001b[0m\u001b[0mworldbank_path\u001b[0m\u001b[0;34m)\u001b[0m\u001b[0;34m\u001b[0m\u001b[0;34m\u001b[0m\u001b[0m\n\u001b[0m",
      "\u001b[0;31mNameError\u001b[0m: name 'worldbank_path' is not defined"
     ]
    }
   ],
   "source": [
    "worldincome_results = pd.read_csv(worldbank_path)"
   ]
  },
  {
   "cell_type": "code",
   "execution_count": null,
   "id": "8d6cadd0",
   "metadata": {},
   "outputs": [],
   "source": [
    "worldincome_results.head(30)"
   ]
  },
  {
   "cell_type": "code",
   "execution_count": null,
   "id": "b444619e",
   "metadata": {},
   "outputs": [],
   "source": [
    "worldincome_results.shape"
   ]
  },
  {
   "cell_type": "code",
   "execution_count": null,
   "id": "f6ff9dc8",
   "metadata": {},
   "outputs": [],
   "source": [
    "#merging the data sets \n",
    "world_overview = pd.merge(worldinternet_results, worldincome_results,how='left', left_on='Country Name', right_on='TableName')"
   ]
  },
  {
   "cell_type": "code",
   "execution_count": null,
   "id": "6b5d27be",
   "metadata": {},
   "outputs": [],
   "source": [
    "world_overview.shape"
   ]
  },
  {
   "cell_type": "code",
   "execution_count": null,
   "id": "a1780140",
   "metadata": {},
   "outputs": [],
   "source": [
    "world_overview.head()"
   ]
  },
  {
   "cell_type": "code",
   "execution_count": 10,
   "id": "4aa5dca0",
   "metadata": {},
   "outputs": [
    {
     "ename": "NameError",
     "evalue": "name 'world_overview' is not defined",
     "output_type": "error",
     "traceback": [
      "\u001b[0;31m---------------------------------------------------------------------------\u001b[0m",
      "\u001b[0;31mNameError\u001b[0m                                 Traceback (most recent call last)",
      "\u001b[0;32m/var/folders/h4/v2g57xvj6mz75vxd96qdxsqw0000gn/T/ipykernel_2616/1534939677.py\u001b[0m in \u001b[0;36m<module>\u001b[0;34m\u001b[0m\n\u001b[1;32m      1\u001b[0m \u001b[0;31m#filtering the dataset to remove unwanted columns\u001b[0m\u001b[0;34m\u001b[0m\u001b[0;34m\u001b[0m\u001b[0m\n\u001b[0;32m----> 2\u001b[0;31m \u001b[0minternet_df\u001b[0m \u001b[0;34m=\u001b[0m \u001b[0mworld_overview\u001b[0m\u001b[0;34m.\u001b[0m\u001b[0mfilter\u001b[0m\u001b[0;34m(\u001b[0m\u001b[0;34m[\u001b[0m\u001b[0;34m'Country Name'\u001b[0m\u001b[0;34m,\u001b[0m\u001b[0;34m'Country Code'\u001b[0m\u001b[0;34m,\u001b[0m\u001b[0;34m'2011 [YR2011]'\u001b[0m\u001b[0;34m,\u001b[0m\u001b[0;34m'2012 [YR2012]'\u001b[0m\u001b[0;34m,\u001b[0m\u001b[0;34m'2013 [YR2013]'\u001b[0m\u001b[0;34m,\u001b[0m\u001b[0;34m'2014 [YR2014]'\u001b[0m\u001b[0;34m,\u001b[0m\u001b[0;34m'2015 [YR2015]'\u001b[0m\u001b[0;34m,\u001b[0m\u001b[0;34m'2016 [YR2016]'\u001b[0m\u001b[0;34m,\u001b[0m\u001b[0;34m'2017 [YR2017]'\u001b[0m\u001b[0;34m,\u001b[0m\u001b[0;34m'2018 [YR2018]'\u001b[0m\u001b[0;34m,\u001b[0m\u001b[0;34m'2019 [YR2019]'\u001b[0m\u001b[0;34m,\u001b[0m\u001b[0;34m'2020 [YR2020]'\u001b[0m\u001b[0;34m,\u001b[0m\u001b[0;34m'IncomeGroup'\u001b[0m\u001b[0;34m]\u001b[0m\u001b[0;34m)\u001b[0m\u001b[0;34m\u001b[0m\u001b[0;34m\u001b[0m\u001b[0m\n\u001b[0m",
      "\u001b[0;31mNameError\u001b[0m: name 'world_overview' is not defined"
     ]
    }
   ],
   "source": [
    "#filtering the dataset to remove unwanted columns \n",
    "internet_df = world_overview.filter(['Country Name','Country Code','2011 [YR2011]','2012 [YR2012]','2013 [YR2013]','2014 [YR2014]','2015 [YR2015]','2016 [YR2016]','2017 [YR2017]','2018 [YR2018]','2019 [YR2019]','2020 [YR2020]','IncomeGroup'])"
   ]
  },
  {
   "cell_type": "code",
   "execution_count": 11,
   "id": "a525925a",
   "metadata": {},
   "outputs": [
    {
     "ename": "NameError",
     "evalue": "name 'internet_df' is not defined",
     "output_type": "error",
     "traceback": [
      "\u001b[0;31m---------------------------------------------------------------------------\u001b[0m",
      "\u001b[0;31mNameError\u001b[0m                                 Traceback (most recent call last)",
      "\u001b[0;32m/var/folders/h4/v2g57xvj6mz75vxd96qdxsqw0000gn/T/ipykernel_2616/2936978122.py\u001b[0m in \u001b[0;36m<module>\u001b[0;34m\u001b[0m\n\u001b[0;32m----> 1\u001b[0;31m \u001b[0minternet_df\u001b[0m\u001b[0;34m.\u001b[0m\u001b[0mhead\u001b[0m\u001b[0;34m(\u001b[0m\u001b[0;36m30\u001b[0m\u001b[0;34m)\u001b[0m\u001b[0;34m\u001b[0m\u001b[0;34m\u001b[0m\u001b[0m\n\u001b[0m",
      "\u001b[0;31mNameError\u001b[0m: name 'internet_df' is not defined"
     ]
    }
   ],
   "source": [
    "internet_df.head(30)"
   ]
  },
  {
   "cell_type": "code",
   "execution_count": 12,
   "id": "5d3a4ab1",
   "metadata": {},
   "outputs": [
    {
     "data": {
      "text/html": [
       "<div>\n",
       "<style scoped>\n",
       "    .dataframe tbody tr th:only-of-type {\n",
       "        vertical-align: middle;\n",
       "    }\n",
       "\n",
       "    .dataframe tbody tr th {\n",
       "        vertical-align: top;\n",
       "    }\n",
       "\n",
       "    .dataframe thead th {\n",
       "        text-align: right;\n",
       "    }\n",
       "</style>\n",
       "<table border=\"1\" class=\"dataframe\">\n",
       "  <thead>\n",
       "    <tr style=\"text-align: right;\">\n",
       "      <th></th>\n",
       "      <th>Country Name</th>\n",
       "      <th>2011</th>\n",
       "      <th>2012</th>\n",
       "      <th>2013</th>\n",
       "      <th>2014</th>\n",
       "      <th>2015</th>\n",
       "      <th>2016</th>\n",
       "      <th>2017</th>\n",
       "      <th>2018</th>\n",
       "      <th>2019</th>\n",
       "      <th>2020</th>\n",
       "    </tr>\n",
       "  </thead>\n",
       "  <tbody>\n",
       "    <tr>\n",
       "      <th>0</th>\n",
       "      <td>Aruba</td>\n",
       "      <td>102050.0</td>\n",
       "      <td>102565.0</td>\n",
       "      <td>103165.0</td>\n",
       "      <td>103776.0</td>\n",
       "      <td>104339.0</td>\n",
       "      <td>104865.0</td>\n",
       "      <td>105361.0</td>\n",
       "      <td>105846.0</td>\n",
       "      <td>106310.0</td>\n",
       "      <td>106766.0</td>\n",
       "    </tr>\n",
       "    <tr>\n",
       "      <th>1</th>\n",
       "      <td>Africa Eastern and Southern</td>\n",
       "      <td>532760424.0</td>\n",
       "      <td>547482863.0</td>\n",
       "      <td>562601578.0</td>\n",
       "      <td>578075373.0</td>\n",
       "      <td>593871847.0</td>\n",
       "      <td>609978946.0</td>\n",
       "      <td>626392880.0</td>\n",
       "      <td>643090131.0</td>\n",
       "      <td>660046272.0</td>\n",
       "      <td>677243299.0</td>\n",
       "    </tr>\n",
       "    <tr>\n",
       "      <th>2</th>\n",
       "      <td>Afghanistan</td>\n",
       "      <td>30117411.0</td>\n",
       "      <td>31161378.0</td>\n",
       "      <td>32269592.0</td>\n",
       "      <td>33370804.0</td>\n",
       "      <td>34413603.0</td>\n",
       "      <td>35383028.0</td>\n",
       "      <td>36296111.0</td>\n",
       "      <td>37171922.0</td>\n",
       "      <td>38041757.0</td>\n",
       "      <td>38928341.0</td>\n",
       "    </tr>\n",
       "    <tr>\n",
       "      <th>3</th>\n",
       "      <td>Africa Western and Central</td>\n",
       "      <td>360285439.0</td>\n",
       "      <td>370243017.0</td>\n",
       "      <td>380437896.0</td>\n",
       "      <td>390882979.0</td>\n",
       "      <td>401586651.0</td>\n",
       "      <td>412551299.0</td>\n",
       "      <td>423769930.0</td>\n",
       "      <td>435229381.0</td>\n",
       "      <td>446911598.0</td>\n",
       "      <td>458803476.0</td>\n",
       "    </tr>\n",
       "    <tr>\n",
       "      <th>4</th>\n",
       "      <td>Angola</td>\n",
       "      <td>24220660.0</td>\n",
       "      <td>25107925.0</td>\n",
       "      <td>26015786.0</td>\n",
       "      <td>26941773.0</td>\n",
       "      <td>27884380.0</td>\n",
       "      <td>28842482.0</td>\n",
       "      <td>29816769.0</td>\n",
       "      <td>30809787.0</td>\n",
       "      <td>31825299.0</td>\n",
       "      <td>32866268.0</td>\n",
       "    </tr>\n",
       "  </tbody>\n",
       "</table>\n",
       "</div>"
      ],
      "text/plain": [
       "                  Country Name         2011         2012         2013  \\\n",
       "0                        Aruba     102050.0     102565.0     103165.0   \n",
       "1  Africa Eastern and Southern  532760424.0  547482863.0  562601578.0   \n",
       "2                  Afghanistan   30117411.0   31161378.0   32269592.0   \n",
       "3   Africa Western and Central  360285439.0  370243017.0  380437896.0   \n",
       "4                       Angola   24220660.0   25107925.0   26015786.0   \n",
       "\n",
       "          2014         2015         2016         2017         2018  \\\n",
       "0     103776.0     104339.0     104865.0     105361.0     105846.0   \n",
       "1  578075373.0  593871847.0  609978946.0  626392880.0  643090131.0   \n",
       "2   33370804.0   34413603.0   35383028.0   36296111.0   37171922.0   \n",
       "3  390882979.0  401586651.0  412551299.0  423769930.0  435229381.0   \n",
       "4   26941773.0   27884380.0   28842482.0   29816769.0   30809787.0   \n",
       "\n",
       "          2019         2020  \n",
       "0     106310.0     106766.0  \n",
       "1  660046272.0  677243299.0  \n",
       "2   38041757.0   38928341.0  \n",
       "3  446911598.0  458803476.0  \n",
       "4   31825299.0   32866268.0  "
      ]
     },
     "execution_count": 12,
     "metadata": {},
     "output_type": "execute_result"
    }
   ],
   "source": [
    "#reading in the population data and filtering\n",
    "worldbank_pop = \"pop.csv\"\n",
    "worldbank_population = pd.read_csv(worldbank_pop)\n",
    "worldbank_population = worldbank_population.filter(['Country Name','2011','2012','2013','2014','2015','2016','2017','2018','2019','2020'])\n",
    "worldbank_population.head()"
   ]
  },
  {
   "cell_type": "code",
   "execution_count": 13,
   "id": "4282583e",
   "metadata": {},
   "outputs": [
    {
     "ename": "NameError",
     "evalue": "name 'internet_df' is not defined",
     "output_type": "error",
     "traceback": [
      "\u001b[0;31m---------------------------------------------------------------------------\u001b[0m",
      "\u001b[0;31mNameError\u001b[0m                                 Traceback (most recent call last)",
      "\u001b[0;32m/var/folders/h4/v2g57xvj6mz75vxd96qdxsqw0000gn/T/ipykernel_2616/245419995.py\u001b[0m in \u001b[0;36m<module>\u001b[0;34m\u001b[0m\n\u001b[1;32m      1\u001b[0m \u001b[0;31m#merging the datasets\u001b[0m\u001b[0;34m\u001b[0m\u001b[0;34m\u001b[0m\u001b[0m\n\u001b[0;32m----> 2\u001b[0;31m \u001b[0mworld_overview1\u001b[0m \u001b[0;34m=\u001b[0m \u001b[0mpd\u001b[0m\u001b[0;34m.\u001b[0m\u001b[0mmerge\u001b[0m\u001b[0;34m(\u001b[0m\u001b[0minternet_df\u001b[0m\u001b[0;34m,\u001b[0m \u001b[0mworldbank_population\u001b[0m\u001b[0;34m,\u001b[0m\u001b[0mhow\u001b[0m\u001b[0;34m=\u001b[0m\u001b[0;34m'left'\u001b[0m\u001b[0;34m,\u001b[0m \u001b[0mleft_on\u001b[0m\u001b[0;34m=\u001b[0m\u001b[0;34m'Country Name'\u001b[0m\u001b[0;34m,\u001b[0m \u001b[0mright_on\u001b[0m\u001b[0;34m=\u001b[0m\u001b[0;34m'Country Name'\u001b[0m\u001b[0;34m)\u001b[0m\u001b[0;34m\u001b[0m\u001b[0;34m\u001b[0m\u001b[0m\n\u001b[0m",
      "\u001b[0;31mNameError\u001b[0m: name 'internet_df' is not defined"
     ]
    }
   ],
   "source": [
    "#merging the datasets\n",
    "world_overview1 = pd.merge(internet_df, worldbank_population,how='left', left_on='Country Name', right_on='Country Name')"
   ]
  },
  {
   "cell_type": "code",
   "execution_count": 14,
   "id": "eb546338",
   "metadata": {},
   "outputs": [
    {
     "ename": "NameError",
     "evalue": "name 'world_overview1' is not defined",
     "output_type": "error",
     "traceback": [
      "\u001b[0;31m---------------------------------------------------------------------------\u001b[0m",
      "\u001b[0;31mNameError\u001b[0m                                 Traceback (most recent call last)",
      "\u001b[0;32m/var/folders/h4/v2g57xvj6mz75vxd96qdxsqw0000gn/T/ipykernel_2616/3662446525.py\u001b[0m in \u001b[0;36m<module>\u001b[0;34m\u001b[0m\n\u001b[0;32m----> 1\u001b[0;31m \u001b[0mworld_overview1\u001b[0m\u001b[0;34m.\u001b[0m\u001b[0mhead\u001b[0m\u001b[0;34m(\u001b[0m\u001b[0;34m)\u001b[0m\u001b[0;34m\u001b[0m\u001b[0;34m\u001b[0m\u001b[0m\n\u001b[0m",
      "\u001b[0;31mNameError\u001b[0m: name 'world_overview1' is not defined"
     ]
    }
   ],
   "source": [
    "\n",
    "world_overview1.head()"
   ]
  },
  {
   "cell_type": "code",
   "execution_count": 15,
   "id": "1eaaa823",
   "metadata": {},
   "outputs": [
    {
     "data": {
      "text/html": [
       "<div>\n",
       "<style scoped>\n",
       "    .dataframe tbody tr th:only-of-type {\n",
       "        vertical-align: middle;\n",
       "    }\n",
       "\n",
       "    .dataframe tbody tr th {\n",
       "        vertical-align: top;\n",
       "    }\n",
       "\n",
       "    .dataframe thead th {\n",
       "        text-align: right;\n",
       "    }\n",
       "</style>\n",
       "<table border=\"1\" class=\"dataframe\">\n",
       "  <thead>\n",
       "    <tr style=\"text-align: right;\">\n",
       "      <th></th>\n",
       "      <th>Country Name</th>\n",
       "      <th>2011</th>\n",
       "      <th>2012</th>\n",
       "      <th>2013</th>\n",
       "      <th>2014</th>\n",
       "      <th>2015</th>\n",
       "      <th>2016</th>\n",
       "      <th>2017</th>\n",
       "      <th>2018</th>\n",
       "      <th>2019</th>\n",
       "      <th>2020</th>\n",
       "    </tr>\n",
       "  </thead>\n",
       "  <tbody>\n",
       "    <tr>\n",
       "      <th>0</th>\n",
       "      <td>Aruba</td>\n",
       "      <td>3.446055</td>\n",
       "      <td>-1.369863</td>\n",
       "      <td>4.198232</td>\n",
       "      <td>0.300000</td>\n",
       "      <td>5.700001</td>\n",
       "      <td>2.100000</td>\n",
       "      <td>1.999999</td>\n",
       "      <td>NaN</td>\n",
       "      <td>NaN</td>\n",
       "      <td>NaN</td>\n",
       "    </tr>\n",
       "    <tr>\n",
       "      <th>1</th>\n",
       "      <td>Africa Eastern and Southern</td>\n",
       "      <td>4.014183</td>\n",
       "      <td>1.972652</td>\n",
       "      <td>4.308370</td>\n",
       "      <td>3.986754</td>\n",
       "      <td>2.925591</td>\n",
       "      <td>2.019391</td>\n",
       "      <td>2.542298</td>\n",
       "      <td>2.475272</td>\n",
       "      <td>2.077898</td>\n",
       "      <td>-2.939186</td>\n",
       "    </tr>\n",
       "    <tr>\n",
       "      <th>2</th>\n",
       "      <td>Afghanistan</td>\n",
       "      <td>0.426355</td>\n",
       "      <td>12.752287</td>\n",
       "      <td>5.600745</td>\n",
       "      <td>2.724543</td>\n",
       "      <td>1.451315</td>\n",
       "      <td>2.260314</td>\n",
       "      <td>2.647003</td>\n",
       "      <td>1.189228</td>\n",
       "      <td>3.911603</td>\n",
       "      <td>-2.351101</td>\n",
       "    </tr>\n",
       "    <tr>\n",
       "      <th>3</th>\n",
       "      <td>Africa Western and Central</td>\n",
       "      <td>4.848351</td>\n",
       "      <td>5.142964</td>\n",
       "      <td>6.104241</td>\n",
       "      <td>5.927350</td>\n",
       "      <td>2.745937</td>\n",
       "      <td>0.127595</td>\n",
       "      <td>2.318042</td>\n",
       "      <td>2.952230</td>\n",
       "      <td>3.190336</td>\n",
       "      <td>-0.884981</td>\n",
       "    </tr>\n",
       "    <tr>\n",
       "      <th>4</th>\n",
       "      <td>Angola</td>\n",
       "      <td>3.471976</td>\n",
       "      <td>8.542188</td>\n",
       "      <td>4.954545</td>\n",
       "      <td>4.822628</td>\n",
       "      <td>0.943572</td>\n",
       "      <td>-2.580050</td>\n",
       "      <td>-0.147213</td>\n",
       "      <td>-2.003630</td>\n",
       "      <td>-0.624644</td>\n",
       "      <td>-5.399987</td>\n",
       "    </tr>\n",
       "  </tbody>\n",
       "</table>\n",
       "</div>"
      ],
      "text/plain": [
       "                  Country Name      2011       2012      2013      2014  \\\n",
       "0                        Aruba  3.446055  -1.369863  4.198232  0.300000   \n",
       "1  Africa Eastern and Southern  4.014183   1.972652  4.308370  3.986754   \n",
       "2                  Afghanistan  0.426355  12.752287  5.600745  2.724543   \n",
       "3   Africa Western and Central  4.848351   5.142964  6.104241  5.927350   \n",
       "4                       Angola  3.471976   8.542188  4.954545  4.822628   \n",
       "\n",
       "       2015      2016      2017      2018      2019      2020  \n",
       "0  5.700001  2.100000  1.999999       NaN       NaN       NaN  \n",
       "1  2.925591  2.019391  2.542298  2.475272  2.077898 -2.939186  \n",
       "2  1.451315  2.260314  2.647003  1.189228  3.911603 -2.351101  \n",
       "3  2.745937  0.127595  2.318042  2.952230  3.190336 -0.884981  \n",
       "4  0.943572 -2.580050 -0.147213 -2.003630 -0.624644 -5.399987  "
      ]
     },
     "execution_count": 15,
     "metadata": {},
     "output_type": "execute_result"
    }
   ],
   "source": [
    "#reading in the GDP CSV and filtering \n",
    "worldbank_GDP = \"GDP.csv\"\n",
    "worldbank_gdp = pd.read_csv(worldbank_GDP)\n",
    "worldbank_gdp.shape\n",
    "worldbank_gdp.head()\n",
    "worldbank_gdp = worldbank_gdp.filter(['Country Name','2011','2012','2013','2014','2015','2016','2017','2018','2019','2020'])\n",
    "worldbank_gdp.head()"
   ]
  },
  {
   "cell_type": "code",
   "execution_count": 16,
   "id": "53fa6656",
   "metadata": {},
   "outputs": [
    {
     "ename": "NameError",
     "evalue": "name 'world_overview1' is not defined",
     "output_type": "error",
     "traceback": [
      "\u001b[0;31m---------------------------------------------------------------------------\u001b[0m",
      "\u001b[0;31mNameError\u001b[0m                                 Traceback (most recent call last)",
      "\u001b[0;32m/var/folders/h4/v2g57xvj6mz75vxd96qdxsqw0000gn/T/ipykernel_2616/3621419947.py\u001b[0m in \u001b[0;36m<module>\u001b[0;34m\u001b[0m\n\u001b[1;32m      1\u001b[0m \u001b[0;31m#final merge\u001b[0m\u001b[0;34m\u001b[0m\u001b[0;34m\u001b[0m\u001b[0m\n\u001b[0;32m----> 2\u001b[0;31m \u001b[0mworld_final\u001b[0m \u001b[0;34m=\u001b[0m \u001b[0mpd\u001b[0m\u001b[0;34m.\u001b[0m\u001b[0mmerge\u001b[0m\u001b[0;34m(\u001b[0m\u001b[0mworld_overview1\u001b[0m\u001b[0;34m,\u001b[0m \u001b[0mworldbank_gdp\u001b[0m\u001b[0;34m,\u001b[0m\u001b[0mhow\u001b[0m\u001b[0;34m=\u001b[0m\u001b[0;34m'left'\u001b[0m\u001b[0;34m,\u001b[0m \u001b[0mleft_on\u001b[0m\u001b[0;34m=\u001b[0m\u001b[0;34m'Country Name'\u001b[0m\u001b[0;34m,\u001b[0m \u001b[0mright_on\u001b[0m\u001b[0;34m=\u001b[0m\u001b[0;34m'Country Name'\u001b[0m\u001b[0;34m)\u001b[0m\u001b[0;34m\u001b[0m\u001b[0;34m\u001b[0m\u001b[0m\n\u001b[0m\u001b[1;32m      3\u001b[0m \u001b[0mworld_final\u001b[0m\u001b[0;34m.\u001b[0m\u001b[0mhead\u001b[0m\u001b[0;34m(\u001b[0m\u001b[0;34m)\u001b[0m\u001b[0;34m\u001b[0m\u001b[0;34m\u001b[0m\u001b[0m\n",
      "\u001b[0;31mNameError\u001b[0m: name 'world_overview1' is not defined"
     ]
    }
   ],
   "source": [
    "#final merge \n",
    "world_final = pd.merge(world_overview1, worldbank_gdp,how='left', left_on='Country Name', right_on='Country Name')\n",
    "world_final.head()"
   ]
  },
  {
   "cell_type": "code",
   "execution_count": 17,
   "id": "e91a21e6",
   "metadata": {},
   "outputs": [
    {
     "ename": "NameError",
     "evalue": "name 'world_final' is not defined",
     "output_type": "error",
     "traceback": [
      "\u001b[0;31m---------------------------------------------------------------------------\u001b[0m",
      "\u001b[0;31mNameError\u001b[0m                                 Traceback (most recent call last)",
      "\u001b[0;32m/var/folders/h4/v2g57xvj6mz75vxd96qdxsqw0000gn/T/ipykernel_2616/4098451193.py\u001b[0m in \u001b[0;36m<module>\u001b[0;34m\u001b[0m\n\u001b[1;32m      1\u001b[0m \u001b[0;31m#renaming the columns to distinguish the data\u001b[0m\u001b[0;34m\u001b[0m\u001b[0;34m\u001b[0m\u001b[0m\n\u001b[0;32m----> 2\u001b[0;31m \u001b[0mworld_final\u001b[0m\u001b[0;34m.\u001b[0m\u001b[0mrename\u001b[0m\u001b[0;34m(\u001b[0m\u001b[0mcolumns\u001b[0m\u001b[0;34m=\u001b[0m\u001b[0;34m{\u001b[0m\u001b[0;34m'2011 [YR2011]'\u001b[0m\u001b[0;34m:\u001b[0m \u001b[0;34m'2011 Internet %'\u001b[0m\u001b[0;34m,\u001b[0m\u001b[0;34m'2012 [YR2012]'\u001b[0m\u001b[0;34m:\u001b[0m \u001b[0;34m'2012 Internet %'\u001b[0m\u001b[0;34m,\u001b[0m\u001b[0;34m'2013 [YR2013]'\u001b[0m\u001b[0;34m:\u001b[0m \u001b[0;34m'2013 Internet %'\u001b[0m\u001b[0;34m,\u001b[0m\u001b[0;34m'2014 [YR2014]'\u001b[0m\u001b[0;34m:\u001b[0m \u001b[0;34m'2014 Internet %'\u001b[0m\u001b[0;34m,\u001b[0m\u001b[0;34m'2015 [YR2015]'\u001b[0m\u001b[0;34m:\u001b[0m \u001b[0;34m'2015 Internet %'\u001b[0m\u001b[0;34m,\u001b[0m\u001b[0;34m'2016 [YR2016]'\u001b[0m\u001b[0;34m:\u001b[0m \u001b[0;34m'2016 Internet %'\u001b[0m\u001b[0;34m,\u001b[0m\u001b[0;34m'2017 [YR2017]'\u001b[0m\u001b[0;34m:\u001b[0m \u001b[0;34m'2017 Internet %'\u001b[0m\u001b[0;34m,\u001b[0m\u001b[0;34m'2018 [YR2018]'\u001b[0m\u001b[0;34m:\u001b[0m \u001b[0;34m'2018 Internet %'\u001b[0m\u001b[0;34m,\u001b[0m\u001b[0;34m'2019 [YR2019]'\u001b[0m\u001b[0;34m:\u001b[0m \u001b[0;34m'2019 Internet %'\u001b[0m\u001b[0;34m,\u001b[0m\u001b[0;34m'2020 [YR2020]'\u001b[0m\u001b[0;34m:\u001b[0m \u001b[0;34m'2020 Internet %'\u001b[0m\u001b[0;34m,\u001b[0m\u001b[0;34m'2011_y'\u001b[0m\u001b[0;34m:\u001b[0m \u001b[0;34m'2011 GDP'\u001b[0m\u001b[0;34m,\u001b[0m\u001b[0;34m'2012_y'\u001b[0m\u001b[0;34m:\u001b[0m \u001b[0;34m'2012 GDP'\u001b[0m\u001b[0;34m,\u001b[0m\u001b[0;34m'2013_y'\u001b[0m\u001b[0;34m:\u001b[0m \u001b[0;34m'2013 GDP'\u001b[0m\u001b[0;34m,\u001b[0m\u001b[0;34m'2014_y'\u001b[0m\u001b[0;34m:\u001b[0m \u001b[0;34m'2014 GDP'\u001b[0m\u001b[0;34m,\u001b[0m\u001b[0;34m'2015_y'\u001b[0m\u001b[0;34m:\u001b[0m \u001b[0;34m'2015 GDP'\u001b[0m\u001b[0;34m,\u001b[0m\u001b[0;34m'2016_y'\u001b[0m\u001b[0;34m:\u001b[0m \u001b[0;34m'2016 GDP'\u001b[0m\u001b[0;34m,\u001b[0m\u001b[0;34m'2017_y'\u001b[0m\u001b[0;34m:\u001b[0m \u001b[0;34m'2017 GDP'\u001b[0m\u001b[0;34m,\u001b[0m\u001b[0;34m'2018_y'\u001b[0m\u001b[0;34m:\u001b[0m \u001b[0;34m'2018 GDP'\u001b[0m\u001b[0;34m,\u001b[0m\u001b[0;34m'2019_y'\u001b[0m\u001b[0;34m:\u001b[0m \u001b[0;34m'2019 GDP'\u001b[0m\u001b[0;34m,\u001b[0m\u001b[0;34m'2020_y'\u001b[0m\u001b[0;34m:\u001b[0m \u001b[0;34m'2020 GDP'\u001b[0m\u001b[0;34m,\u001b[0m\u001b[0;34m'2011_x'\u001b[0m\u001b[0;34m:\u001b[0m \u001b[0;34m'2011 population'\u001b[0m\u001b[0;34m,\u001b[0m\u001b[0;34m'2012_x'\u001b[0m\u001b[0;34m:\u001b[0m \u001b[0;34m'2012 population'\u001b[0m\u001b[0;34m,\u001b[0m\u001b[0;34m'2013_x'\u001b[0m\u001b[0;34m:\u001b[0m \u001b[0;34m'2013 population'\u001b[0m\u001b[0;34m,\u001b[0m\u001b[0;34m'2014_x'\u001b[0m\u001b[0;34m:\u001b[0m \u001b[0;34m'2014 population'\u001b[0m\u001b[0;34m,\u001b[0m\u001b[0;34m'2015_x'\u001b[0m\u001b[0;34m:\u001b[0m \u001b[0;34m'2015 population'\u001b[0m\u001b[0;34m,\u001b[0m\u001b[0;34m'2016_x'\u001b[0m\u001b[0;34m:\u001b[0m \u001b[0;34m'2016 population'\u001b[0m\u001b[0;34m,\u001b[0m\u001b[0;34m'2017_x'\u001b[0m\u001b[0;34m:\u001b[0m \u001b[0;34m'2017 population'\u001b[0m\u001b[0;34m,\u001b[0m\u001b[0;34m'2018_x'\u001b[0m\u001b[0;34m:\u001b[0m \u001b[0;34m'2018 population'\u001b[0m\u001b[0;34m,\u001b[0m\u001b[0;34m'2019_x'\u001b[0m\u001b[0;34m:\u001b[0m \u001b[0;34m'2019 population'\u001b[0m\u001b[0;34m,\u001b[0m\u001b[0;34m'2020_x'\u001b[0m\u001b[0;34m:\u001b[0m \u001b[0;34m'2020 population'\u001b[0m\u001b[0;34m}\u001b[0m\u001b[0;34m,\u001b[0m \u001b[0minplace\u001b[0m\u001b[0;34m=\u001b[0m\u001b[0;32mTrue\u001b[0m\u001b[0;34m)\u001b[0m\u001b[0;34m\u001b[0m\u001b[0;34m\u001b[0m\u001b[0m\n\u001b[0m",
      "\u001b[0;31mNameError\u001b[0m: name 'world_final' is not defined"
     ]
    }
   ],
   "source": [
    "#renaming the columns to distinguish the data \n",
    "world_final.rename(columns={'2011 [YR2011]': '2011 Internet %','2012 [YR2012]': '2012 Internet %','2013 [YR2013]': '2013 Internet %','2014 [YR2014]': '2014 Internet %','2015 [YR2015]': '2015 Internet %','2016 [YR2016]': '2016 Internet %','2017 [YR2017]': '2017 Internet %','2018 [YR2018]': '2018 Internet %','2019 [YR2019]': '2019 Internet %','2020 [YR2020]': '2020 Internet %','2011_y': '2011 GDP','2012_y': '2012 GDP','2013_y': '2013 GDP','2014_y': '2014 GDP','2015_y': '2015 GDP','2016_y': '2016 GDP','2017_y': '2017 GDP','2018_y': '2018 GDP','2019_y': '2019 GDP','2020_y': '2020 GDP','2011_x': '2011 population','2012_x': '2012 population','2013_x': '2013 population','2014_x': '2014 population','2015_x': '2015 population','2016_x': '2016 population','2017_x': '2017 population','2018_x': '2018 population','2019_x': '2019 population','2020_x': '2020 population'}, inplace=True)"
   ]
  },
  {
   "cell_type": "code",
   "execution_count": 18,
   "id": "24a5dcdc",
   "metadata": {},
   "outputs": [
    {
     "ename": "NameError",
     "evalue": "name 'world_final' is not defined",
     "output_type": "error",
     "traceback": [
      "\u001b[0;31m---------------------------------------------------------------------------\u001b[0m",
      "\u001b[0;31mNameError\u001b[0m                                 Traceback (most recent call last)",
      "\u001b[0;32m/var/folders/h4/v2g57xvj6mz75vxd96qdxsqw0000gn/T/ipykernel_2616/1214668859.py\u001b[0m in \u001b[0;36m<module>\u001b[0;34m\u001b[0m\n\u001b[0;32m----> 1\u001b[0;31m \u001b[0mworld_final\u001b[0m\u001b[0;34m.\u001b[0m\u001b[0mhead\u001b[0m\u001b[0;34m(\u001b[0m\u001b[0;34m)\u001b[0m\u001b[0;34m\u001b[0m\u001b[0;34m\u001b[0m\u001b[0m\n\u001b[0m",
      "\u001b[0;31mNameError\u001b[0m: name 'world_final' is not defined"
     ]
    }
   ],
   "source": [
    "world_final.head()"
   ]
  },
  {
   "cell_type": "code",
   "execution_count": 19,
   "id": "8a9074cf",
   "metadata": {},
   "outputs": [
    {
     "ename": "NameError",
     "evalue": "name 'world_final' is not defined",
     "output_type": "error",
     "traceback": [
      "\u001b[0;31m---------------------------------------------------------------------------\u001b[0m",
      "\u001b[0;31mNameError\u001b[0m                                 Traceback (most recent call last)",
      "\u001b[0;32m/var/folders/h4/v2g57xvj6mz75vxd96qdxsqw0000gn/T/ipykernel_2616/1221760535.py\u001b[0m in \u001b[0;36m<module>\u001b[0;34m\u001b[0m\n\u001b[1;32m      1\u001b[0m \u001b[0;31m#Exports DataFrame as a csv file\u001b[0m\u001b[0;34m\u001b[0m\u001b[0;34m\u001b[0m\u001b[0m\n\u001b[0;32m----> 2\u001b[0;31m \u001b[0mworld_final\u001b[0m\u001b[0;34m.\u001b[0m\u001b[0mto_csv\u001b[0m\u001b[0;34m(\u001b[0m\u001b[0;34m'internet.csv'\u001b[0m\u001b[0;34m,\u001b[0m \u001b[0mindex\u001b[0m\u001b[0;34m=\u001b[0m \u001b[0;32mFalse\u001b[0m\u001b[0;34m)\u001b[0m\u001b[0;34m\u001b[0m\u001b[0;34m\u001b[0m\u001b[0m\n\u001b[0m",
      "\u001b[0;31mNameError\u001b[0m: name 'world_final' is not defined"
     ]
    }
   ],
   "source": [
    "#Exports DataFrame as a csv file\n",
    "world_final.to_csv('internet.csv', index= False)"
   ]
  },
  {
   "cell_type": "code",
   "execution_count": 20,
   "id": "e7085eb2",
   "metadata": {},
   "outputs": [],
   "source": [
    " # Create engine using the `demographics.sqlite` database file\n",
    "engine = create_engine(\"sqlite:///../Resources/internet.sqlite\")"
   ]
  },
  {
   "cell_type": "code",
   "execution_count": 21,
   "id": "b4b30e83",
   "metadata": {},
   "outputs": [],
   "source": [
    " # Declare a Base using `automap_base()`\n",
    "#Base = automap_base()"
   ]
  },
  {
   "cell_type": "code",
   "execution_count": 22,
   "id": "65fa7afc",
   "metadata": {},
   "outputs": [],
   "source": [
    " # Print all of the classes mapped to the Base\n",
    "#Base.classes.keys()\n",
    " # Assign the dow class to a variable called `Dow`\n",
    "#internet = Base.classes.internet\n",
    "# Create a session\n",
    "#session = Session(engine) \n"
   ]
  },
  {
   "cell_type": "code",
   "execution_count": 23,
   "id": "0a596ca3",
   "metadata": {},
   "outputs": [],
   "source": [
    "# Import SQL Alchemy\n",
    "from sqlalchemy import create_engine\n",
    "\n",
    "# Import and establish Base for which classes will be constructed \n",
    "from sqlalchemy.ext.declarative import declarative_base\n",
    "Base = declarative_base()\n",
    "\n",
    "# Import modules to declare columns and column data types\n",
    "from sqlalchemy import Column, Integer, String, Float"
   ]
  },
  {
   "cell_type": "code",
   "execution_count": null,
   "id": "b870aaff",
   "metadata": {},
   "outputs": [],
   "source": [
    "# Create the Garbage class\n",
    "class Garbage(Base):\n",
    "    __tablename__ = 'garbage_collection'\n",
    "    id = Column(Integer, primary_key=True)\n",
    "    item = Column(String(255))\n",
    "    weight = Column(Float)\n",
    "    collector = Column(String(255))"
   ]
  },
  {
   "cell_type": "code",
   "execution_count": null,
   "id": "d6a8be1c",
   "metadata": {},
   "outputs": [],
   "source": []
  },
  {
   "cell_type": "code",
   "execution_count": null,
   "id": "2a955b1e",
   "metadata": {},
   "outputs": [],
   "source": []
  },
  {
   "cell_type": "code",
   "execution_count": null,
   "id": "ef19bce4",
   "metadata": {},
   "outputs": [],
   "source": []
  }
 ],
 "metadata": {
  "kernelspec": {
   "display_name": "Python 3 (ipykernel)",
   "language": "python",
   "name": "python3"
  },
  "language_info": {
   "codemirror_mode": {
    "name": "ipython",
    "version": 3
   },
   "file_extension": ".py",
   "mimetype": "text/x-python",
   "name": "python",
   "nbconvert_exporter": "python",
   "pygments_lexer": "ipython3",
   "version": "3.9.7"
  }
 },
 "nbformat": 4,
 "nbformat_minor": 5
}
